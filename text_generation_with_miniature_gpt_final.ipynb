{
 "cells": [
  {
   "cell_type": "markdown",
   "metadata": {
    "id": "5npQ8nnpDa44"
   },
   "source": [
    "# Text Generation with miniature GPT\n",
    "\n",
    "**Author:** [Apoorv Nandan](https://twitter.com/NandanApoorv)<br>\n",
    "**Date created:** 2020/05/29<br>\n",
    "**Last modified:** 2020/05/29<br>\n",
    "**Description:** Implement miniature version of GPT and learn to generate text."
   ]
  },
  {
   "cell_type": "markdown",
   "metadata": {
    "id": "FgCwXBOvDa44"
   },
   "source": [
    "## Introduction\n",
    "\n",
    "This example demonstrates autoregressive language modelling using\n",
    "a miniature version of GPT model.\n",
    "The model consists of a single transformer block with causal masking\n",
    "in its attention layer.\n",
    "We use the text from IMDB sentiment classification dataset for training\n",
    "and generate new movie reviews for a given prompt.\n",
    "When using this script with your own data, make sure it has at least\n",
    "1M words.\n",
    "\n",
    "This example should be run with `tf-nightly>=2.3.0-dev20200531` or\n",
    "with tensorflow 2.3 or higher.\n",
    "\n",
    "**References:**\n",
    "\n",
    "- [GPT](https://www.semanticscholar.org/paper/Improving-Language-Understanding-by-Generative-Radford/cd18800a0fe0b668a1cc19f2ec95b5003d0a5035)\n",
    "- [GPT-2](https://www.semanticscholar.org/paper/Language-Models-are-Unsupervised-Multitask-Learners-Radford-Wu/9405cc0d6169988371b2755e573cc28650d14dfe)\n",
    "- [GPT-3](https://arxiv.org/abs/2005.14165)\n"
   ]
  },
  {
   "cell_type": "code",
   "execution_count": 1,
   "metadata": {},
   "outputs": [
    {
     "name": "stderr",
     "output_type": "stream",
     "text": [
      "'nvidia-smi'은(는) 내부 또는 외부 명령, 실행할 수 있는 프로그램, 또는\n",
      "배치 파일이 아닙니다.\n"
     ]
    }
   ],
   "source": [
    "!nvidia-smi"
   ]
  },
  {
   "cell_type": "markdown",
   "metadata": {
    "id": "UgboUM96Da44"
   },
   "source": [
    "## Setup\n"
   ]
  },
  {
   "cell_type": "code",
   "execution_count": 2,
   "metadata": {
    "id": "iX81_80iDa45"
   },
   "outputs": [],
   "source": [
    "import tensorflow as tf\n",
    "from tensorflow import keras\n",
    "from tensorflow.keras import layers\n",
    "from tensorflow.keras.layers.experimental.preprocessing import TextVectorization\n",
    "import numpy as np\n",
    "import os\n",
    "import re\n",
    "import string\n",
    "import random"
   ]
  },
  {
   "cell_type": "code",
   "execution_count": 3,
   "metadata": {},
   "outputs": [
    {
     "name": "stdout",
     "output_type": "stream",
     "text": [
      "TF version : 2.5.0-dev20201126\n",
      "\n",
      "Num GPUs Available : 0\n",
      "\n"
     ]
    }
   ],
   "source": [
    "## 설치 방법\n",
    "#!pip install pip install tf-nightly-gpu\n",
    "import tensorflow as tf\n",
    "print('TF version : %s\\n'%tf.__version__)\n",
    "print('Num GPUs Available : %s\\n'%len(tf.config.experimental.list_physical_devices('GPU')))\n",
    "\n",
    "# from tensorflow.python.client import device_lib\n",
    "# print(device_lib.list_local_devices())"
   ]
  },
  {
   "cell_type": "markdown",
   "metadata": {
    "id": "x7yRoC5vDa45"
   },
   "source": [
    "## Self-attention with causal masking\n",
    "\n",
    "We compute self-attention as usual, but prevent any information to flow\n",
    "from future tokens by masking the upper half of the scaled dot product matrix.\n"
   ]
  },
  {
   "cell_type": "code",
   "execution_count": 4,
   "metadata": {
    "code_folding": [],
    "id": "bXMet2MwDa45"
   },
   "outputs": [],
   "source": [
    "class MultiHeadSelfAttention(layers.Layer):\n",
    "    def __init__(self, embed_dim, num_heads=8):\n",
    "        super(MultiHeadSelfAttention, self).__init__()\n",
    "        self.embed_dim = embed_dim\n",
    "        self.num_heads = num_heads\n",
    "        # embedding을 head 개수로 나눠서 계산하므로 에러처리\n",
    "        if embed_dim % num_heads != 0:\n",
    "            raise ValueError(\n",
    "                f\"embedding dimension = {embed_dim} should be divisible by number of heads = \\\n",
    "                {num_heads}\"\n",
    "            )\n",
    "        self.projection_dim = embed_dim // num_heads  # 256 dimension을 8개의 head로 나눠서 계산하기 위해 head 당 dimension 계산\n",
    "        self.query_dense    = layers.Dense(embed_dim)\n",
    "        self.key_dense      = layers.Dense(embed_dim)\n",
    "        self.value_dense    = layers.Dense(embed_dim)\n",
    "        self.combine_heads  = layers.Dense(embed_dim)\n",
    "\n",
    "    @staticmethod\n",
    "    def causal_attention_mask(n_dest, n_src, dtype):\n",
    "        # input : n_dest, n_src = seq_len\n",
    "        # array([[[[1., 0., 0., 0.],\n",
    "        #          [1., 1., 0., 0.],\n",
    "        #          [1., 1., 1., 0.],\n",
    "        #          [1., 1., 1., 1.]]]]       \n",
    "        \"\"\"\n",
    "        1's in the lower triangle, counting from the lower right corner.\n",
    "        \"\"\"\n",
    "        i = tf.range(n_dest)[:, None]\n",
    "        j = tf.range(n_src)\n",
    "        m = i >= j - n_src + n_dest\n",
    "        return tf.cast(m, dtype)  # true->1, false->2로 변형\n",
    "\n",
    "    def attention(self, query, key, value):\n",
    "        # input\n",
    "        # q, k, v : (batch_size, num_heads, seq_len, projection_dim)\n",
    "        # output\n",
    "        # 1. output : (batch_size, seq_len, num_heads, projection_dim)\n",
    "        # 2. weights\n",
    "        # score : (batch_size, seq_len, seq_len) = (seq_len, embed_dim)x(seq_len, embed_dim)\n",
    "        score = tf.matmul(query, key, transpose_b=True)  # (batch_size, seq_len, seq_len)\n",
    "        dim_key = tf.cast(tf.shape(key)[-1], tf.float32)  # embed_dim\n",
    "        # scaled_score : (batch_size, seq_len, seq_len), sqrt(embed_dim)로 나눠서 normalize\n",
    "        scaled_score = score / tf.math.sqrt(dim_key)  # (batch_size, seq_len, seq_len)\n",
    "        \n",
    "        # prevent information flow from future tokens\n",
    "        shape = tf.shape(scaled_score)  # 4차원\n",
    "        dim_dest, dim_src = shape[2], shape[3]\n",
    "        # attention_mask\n",
    "        # array([[[[1., 0., 0., 0.],\n",
    "        #          [1., 1., 0., 0.],\n",
    "        #          [1., 1., 1., 0.],\n",
    "        #          [1., 1., 1., 1.]]]]\n",
    "        attention_mask = self.causal_attention_mask(dim_dest, dim_src, scaled_score.dtype)\n",
    "        attention_mask = tf.reshape(attention_mask, [1, 1, dim_dest, dim_src])  # why? 굳이?\n",
    "        # 하삼각 행렬은 값을 갖고, 상삼각행렬은 -10000로 attention이 가해지지 않도록\n",
    "        scaled_score = scaled_score * attention_mask - 1e4 * (1 - attention_mask)\n",
    "\n",
    "        weights = tf.nn.softmax(scaled_score, axis=-1)  # (batch_size, num_heads, seq_len, seq_len)\n",
    "        output = tf.matmul(weights, value)  # (batch_size, num_heads, seq_len, projection_dim)\n",
    "        return output, weights\n",
    "\n",
    "    def separate_heads(self, x, batch_size):\n",
    "        x = tf.reshape(x, (batch_size, -1, self.num_heads, self.projection_dim))\n",
    "        return tf.transpose(x, perm=[0, 2, 1, 3])\n",
    "\n",
    "    def call(self, inputs):\n",
    "        # x.shape = [batch_size, seq_len, embedding_dim]\n",
    "        batch_size = tf.shape(inputs)[0]\n",
    "        \n",
    "        # q, k, v 구하기\n",
    "        query = self.query_dense(inputs)  # (batch_size, seq_len, embed_dim)\n",
    "        key   = self.key_dense(inputs)    # (batch_size, seq_len, embed_dim)\n",
    "        value = self.value_dense(inputs)  # (batch_size, seq_len, embed_dim)\n",
    "        \n",
    "        # multihead로 쪼개기, (batch_size, seq_len, embed_dim) -> (batch_size, num_heads, seq_len, projection_dim)\n",
    "        query = self.separate_heads(query, batch_size)  # (batch_size, num_heads, seq_len, projection_dim)\n",
    "        key   = self.separate_heads(key, batch_size)    # (batch_size, num_heads, seq_len, projection_dim)\n",
    "        value = self.separate_heads(value, batch_size)  # (batch_size, num_heads, seq_len, projection_dim)\n",
    "        \n",
    "        # q,k,v의 attention 구하기\n",
    "        attention, weights = self.attention(query, key, value)  # attention : (batch_size, num_heads, seq_len, projection_dim), weight : (batch_size, num_heads, seq_len, seq_len)\n",
    "        attention = tf.transpose(attention, perm=[0, 2, 1, 3])  # (batch_size, seq_len, num_heads, projection_dim)\n",
    "        # multi-head attention을 하나로 합치기\n",
    "        concat_attention = tf.reshape(attention, (batch_size, -1, self.embed_dim))  # (batch_size, seq_len, embed_dim)\n",
    "        # 최종 dense layer\n",
    "        output = self.combine_heads(concat_attention)  # (batch_size, seq_len, embed_dim)\n",
    "        \n",
    "        # output : (batch_size, seq_len, embed_dim)\n",
    "        return output\n"
   ]
  },
  {
   "cell_type": "markdown",
   "metadata": {
    "id": "1mYmW5y2Da45"
   },
   "source": [
    "## Implement a Transformer block as a layer\n"
   ]
  },
  {
   "cell_type": "code",
   "execution_count": 5,
   "metadata": {
    "id": "oFDAdNzjDa45"
   },
   "outputs": [],
   "source": [
    "class TransformerBlock(layers.Layer):\n",
    "    def __init__(self, embed_dim, num_heads, ff_dim, rate=0.1):\n",
    "        # embed_dim=512\n",
    "        # num_heads=8\n",
    "        # ff_dim=2048\n",
    "        super(TransformerBlock, self).__init__()\n",
    "        self.att = MultiHeadSelfAttention(embed_dim, num_heads)\n",
    "        self.ffn = keras.Sequential([\n",
    "            layers.Dense(ff_dim, activation=\"relu\"),  ### # (batch_size, seq_len, ff_dim)\n",
    "            layers.Dense(embed_dim)  ### # (batch_size, seq_len, embed_dim)\n",
    "        ])\n",
    "        self.layernorm1 = layers.LayerNormalization(epsilon=1e-6)\n",
    "        self.layernorm2 = layers.LayerNormalization(epsilon=1e-6)\n",
    "        self.dropout1 = layers.Dropout(rate)\n",
    "        self.dropout2 = layers.Dropout(rate)\n",
    "\n",
    "    def call(self, inputs):\n",
    "        attention_output = self.att(inputs)\n",
    "        attention_output = self.dropout1(attention_output)  ### # (batch_size, seq_len, embed_dim)\n",
    "        out1 = self.layernorm1(inputs + attention_output)  ### # (batch_size, seq_len, embed_dim)\n",
    "        ffn_output = self.ffn(out1)  ### # (batch_size, seq_len, embed_dim)\n",
    "        ffn_output = self.dropout2(ffn_output)\n",
    "        return self.layernorm2(out1 + ffn_output)  ### # (batch_size, seq_len, embed_dim)"
   ]
  },
  {
   "cell_type": "markdown",
   "metadata": {
    "id": "sb6o6-UzDa45"
   },
   "source": [
    "## Implement embedding layer\n",
    "\n",
    "Two seperate embedding layers, one for tokens, one for token index (positions).\n"
   ]
  },
  {
   "cell_type": "code",
   "execution_count": 6,
   "metadata": {
    "id": "B8N7P-eIDa45"
   },
   "outputs": [],
   "source": [
    "class TokenAndPositionEmbedding(layers.Layer):\n",
    "    # input : (batch_size, seq_len)\n",
    "    # output: (batch_size, seq_len, embed_dim)\n",
    "    def __init__(self, maxlen, vocab_size, embed_dim):\n",
    "        super(TokenAndPositionEmbedding, self).__init__()\n",
    "        self.token_emb = layers.Embedding(input_dim=vocab_size, output_dim=embed_dim)\n",
    "        self.pos_emb = layers.Embedding(input_dim=maxlen, output_dim=embed_dim)\n",
    "\n",
    "    def call(self, x):\n",
    "        # x : (batch_size, seq_len)\n",
    "        maxlen = tf.shape(x)[-1]  # seq_len\n",
    "        positions = tf.range(start=0, limit=maxlen, delta=1)  # [0, 1, ...seq_len]\n",
    "        positions = self.pos_emb(positions)  # (seq_len, embed_dim)\n",
    "        x = self.token_emb(x)  # (batch_size, seq_len, embed_dim)\n",
    "        return x + positions"
   ]
  },
  {
   "cell_type": "code",
   "execution_count": 9,
   "metadata": {},
   "outputs": [
    {
     "name": "stdout",
     "output_type": "stream",
     "text": [
      "(1, 100, 256)\n"
     ]
    },
    {
     "data": {
      "image/png": "[encoded data removed]",
      "text/plain": [
       "<Figure size 432x288 with 2 Axes>"
      ]
     },
     "metadata": {
      "needs_background": "light"
     },
     "output_type": "display_data"
    }
   ],
   "source": [
    "# transformer와 본래 positional encoding 방식\n",
    "maxlen = 100\n",
    "embed_dim = 256\n",
    "\n",
    "def get_angles(pos, i, d_model):\n",
    "    angle_rates = 1 / np.power(10000, (2 * (i//2)) / np.float32(d_model))\n",
    "    return pos * angle_rates\n",
    "\n",
    "def positional_encoding(position, d_model):\n",
    "    angle_rads = get_angles(np.arange(position)[:, np.newaxis],\n",
    "                          np.arange(d_model)[np.newaxis, :],\n",
    "                          d_model)\n",
    "\n",
    "    # apply sin to even indices in the array; 2i\n",
    "    angle_rads[:, 0::2] = np.sin(angle_rads[:, 0::2])\n",
    "\n",
    "    # apply cos to odd indices in the array; 2i+1\n",
    "    angle_rads[:, 1::2] = np.cos(angle_rads[:, 1::2])\n",
    "\n",
    "    pos_encoding = angle_rads[np.newaxis, ...]\n",
    "\n",
    "    return tf.cast(pos_encoding, dtype=tf.float32)\n",
    "\n",
    "pos_encoding = positional_encoding(maxlen, embed_dim)\n",
    "print (pos_encoding.shape)\n",
    "\n",
    "import matplotlib.pyplot as plt\n",
    "plt.pcolormesh(pos_encoding[0], cmap='RdBu')\n",
    "plt.xlabel('embed_dim')\n",
    "plt.xlim((0, embed_dim))\n",
    "plt.ylabel('Position')\n",
    "plt.colorbar()\n",
    "plt.show()"
   ]
  },
  {
   "cell_type": "markdown",
   "metadata": {
    "id": "9dzZnHi0Da45"
   },
   "source": [
    "## Implement miniature GPT model\n"
   ]
  },
  {
   "cell_type": "code",
   "execution_count": 32,
   "metadata": {
    "id": "RvCehw28Da45"
   },
   "outputs": [
    {
     "ename": "ResourceExhaustedError",
     "evalue": "in user code:\n\n    <ipython-input-5-89f007774850>:18 call  *\n        attention_output = self.att(inputs)\n    <ipython-input-4-8d4be259f347>:70 call  *\n        value = self.value_dense(inputs)  # (batch_size, seq_len, embed_dim)\n    C:\\Users\\go\\.conda\\envs\\venv\\lib\\site-packages\\tensorflow\\python\\keras\\engine\\base_layer.py:1010 __call__  **\n        self._maybe_build(inputs)\n    C:\\Users\\go\\.conda\\envs\\venv\\lib\\site-packages\\tensorflow\\python\\keras\\engine\\base_layer.py:2704 _maybe_build\n        self.build(input_shapes)  # pylint:disable=not-callable\n    C:\\Users\\go\\.conda\\envs\\venv\\lib\\site-packages\\tensorflow\\python\\keras\\layers\\core.py:1191 build\n        trainable=True)\n    C:\\Users\\go\\.conda\\envs\\venv\\lib\\site-packages\\tensorflow\\python\\keras\\engine\\base_layer.py:642 add_weight\n        caching_device=caching_device)\n    C:\\Users\\go\\.conda\\envs\\venv\\lib\\site-packages\\tensorflow\\python\\training\\tracking\\base.py:810 _add_variable_with_custom_getter\n        **kwargs_for_getter)\n    C:\\Users\\go\\.conda\\envs\\venv\\lib\\site-packages\\tensorflow\\python\\keras\\engine\\base_layer_utils.py:142 make_variable\n        shape=variable_shape if variable_shape else None)\n    C:\\Users\\go\\.conda\\envs\\venv\\lib\\site-packages\\tensorflow\\python\\ops\\variables.py:260 __call__\n        return cls._variable_v1_call(*args, **kwargs)\n    C:\\Users\\go\\.conda\\envs\\venv\\lib\\site-packages\\tensorflow\\python\\ops\\variables.py:221 _variable_v1_call\n        shape=shape)\n    C:\\Users\\go\\.conda\\envs\\venv\\lib\\site-packages\\tensorflow\\python\\ops\\variables.py:199 <lambda>\n        previous_getter = lambda **kwargs: default_variable_creator(None, **kwargs)\n    C:\\Users\\go\\.conda\\envs\\venv\\lib\\site-packages\\tensorflow\\python\\ops\\variable_scope.py:2618 default_variable_creator\n        shape=shape)\n    C:\\Users\\go\\.conda\\envs\\venv\\lib\\site-packages\\tensorflow\\python\\ops\\variables.py:264 __call__\n        return super(VariableMetaclass, cls).__call__(*args, **kwargs)\n    C:\\Users\\go\\.conda\\envs\\venv\\lib\\site-packages\\tensorflow\\python\\ops\\resource_variable_ops.py:1585 __init__\n        distribute_strategy=distribute_strategy)\n    C:\\Users\\go\\.conda\\envs\\venv\\lib\\site-packages\\tensorflow\\python\\ops\\resource_variable_ops.py:1712 _init_from_args\n        initial_value = initial_value()\n    C:\\Users\\go\\.conda\\envs\\venv\\lib\\site-packages\\tensorflow\\python\\keras\\initializers\\initializers_v2.py:410 __call__\n        shape, dtype=_get_dtype(dtype), **kwargs)\n    C:\\Users\\go\\.conda\\envs\\venv\\lib\\site-packages\\tensorflow\\python\\ops\\init_ops_v2.py:600 __call__\n        return self._random_generator.random_uniform(shape, -limit, limit, dtype)\n    C:\\Users\\go\\.conda\\envs\\venv\\lib\\site-packages\\tensorflow\\python\\ops\\init_ops_v2.py:1082 random_uniform\n        shape=shape, minval=minval, maxval=maxval, dtype=dtype, seed=self.seed)\n    C:\\Users\\go\\.conda\\envs\\venv\\lib\\site-packages\\tensorflow\\python\\util\\dispatch.py:206 wrapper\n        return target(*args, **kwargs)\n    C:\\Users\\go\\.conda\\envs\\venv\\lib\\site-packages\\tensorflow\\python\\ops\\random_ops.py:308 random_uniform\n        result = math_ops.add(result * (maxval - minval), minval, name=name)\n    C:\\Users\\go\\.conda\\envs\\venv\\lib\\site-packages\\tensorflow\\python\\ops\\gen_math_ops.py:326 add\n        _ops.raise_from_not_ok_status(e, name)\n    C:\\Users\\go\\.conda\\envs\\venv\\lib\\site-packages\\tensorflow\\python\\framework\\ops.py:6868 raise_from_not_ok_status\n        six.raise_from(core._status_to_exception(e.code, message), None)\n    <string>:3 raise_from\n        \n\n    ResourceExhaustedError: OOM when allocating tensor with shape[12288,12288] and type float on /job:localhost/replica:0/task:0/device:CPU:0 by allocator cpu [Op:Add]\n",
     "output_type": "error",
     "traceback": [
      "\u001b[1;31m---------------------------------------------------------------------------\u001b[0m",
      "\u001b[1;31mResourceExhaustedError\u001b[0m                    Traceback (most recent call last)",
      "\u001b[1;32m<ipython-input-32-2dd4f0c64e3d>\u001b[0m in \u001b[0;36m<module>\u001b[1;34m\u001b[0m\n\u001b[0;32m     36\u001b[0m     \u001b[1;32mreturn\u001b[0m \u001b[0mmodel\u001b[0m\u001b[1;33m\u001b[0m\u001b[1;33m\u001b[0m\u001b[0m\n\u001b[0;32m     37\u001b[0m \u001b[1;33m\u001b[0m\u001b[0m\n\u001b[1;32m---> 38\u001b[1;33m \u001b[0mmodel\u001b[0m \u001b[1;33m=\u001b[0m \u001b[0mcreate_model\u001b[0m\u001b[1;33m(\u001b[0m\u001b[1;33m)\u001b[0m\u001b[1;33m\u001b[0m\u001b[1;33m\u001b[0m\u001b[0m\n\u001b[0m\u001b[0;32m     39\u001b[0m \u001b[0mmodel\u001b[0m\u001b[1;33m.\u001b[0m\u001b[0msummary\u001b[0m\u001b[1;33m(\u001b[0m\u001b[1;33m)\u001b[0m\u001b[1;33m\u001b[0m\u001b[1;33m\u001b[0m\u001b[0m\n",
      "\u001b[1;32m<ipython-input-32-2dd4f0c64e3d>\u001b[0m in \u001b[0;36mcreate_model\u001b[1;34m()\u001b[0m\n\u001b[0;32m     24\u001b[0m     \u001b[1;31m## 추가, multi-layers\u001b[0m\u001b[1;33m\u001b[0m\u001b[1;33m\u001b[0m\u001b[1;33m\u001b[0m\u001b[0m\n\u001b[0;32m     25\u001b[0m     \u001b[1;32mfor\u001b[0m \u001b[0mi\u001b[0m \u001b[1;32min\u001b[0m \u001b[0mrange\u001b[0m\u001b[1;33m(\u001b[0m\u001b[0mnum_layers\u001b[0m\u001b[1;33m)\u001b[0m\u001b[1;33m:\u001b[0m\u001b[1;33m\u001b[0m\u001b[1;33m\u001b[0m\u001b[0m\n\u001b[1;32m---> 26\u001b[1;33m         \u001b[0mx\u001b[0m \u001b[1;33m=\u001b[0m \u001b[0mtransformer_block_list\u001b[0m\u001b[1;33m[\u001b[0m\u001b[0mi\u001b[0m\u001b[1;33m]\u001b[0m\u001b[1;33m(\u001b[0m\u001b[0mx\u001b[0m\u001b[1;33m)\u001b[0m\u001b[1;33m\u001b[0m\u001b[1;33m\u001b[0m\u001b[0m\n\u001b[0m\u001b[0;32m     27\u001b[0m \u001b[1;33m\u001b[0m\u001b[0m\n\u001b[0;32m     28\u001b[0m     \u001b[0moutputs\u001b[0m \u001b[1;33m=\u001b[0m \u001b[0mlayers\u001b[0m\u001b[1;33m.\u001b[0m\u001b[0mDense\u001b[0m\u001b[1;33m(\u001b[0m\u001b[0mvocab_size\u001b[0m\u001b[1;33m)\u001b[0m\u001b[1;33m(\u001b[0m\u001b[0mx\u001b[0m\u001b[1;33m)\u001b[0m\u001b[1;33m\u001b[0m\u001b[1;33m\u001b[0m\u001b[0m\n",
      "\u001b[1;32m~\\.conda\\envs\\venv\\lib\\site-packages\\tensorflow\\python\\keras\\engine\\base_layer.py\u001b[0m in \u001b[0;36m__call__\u001b[1;34m(self, *args, **kwargs)\u001b[0m\n\u001b[0;32m    952\u001b[0m     \u001b[1;32mif\u001b[0m \u001b[0m_in_functional_construction_mode\u001b[0m\u001b[1;33m(\u001b[0m\u001b[0mself\u001b[0m\u001b[1;33m,\u001b[0m \u001b[0minputs\u001b[0m\u001b[1;33m,\u001b[0m \u001b[0margs\u001b[0m\u001b[1;33m,\u001b[0m \u001b[0mkwargs\u001b[0m\u001b[1;33m,\u001b[0m \u001b[0minput_list\u001b[0m\u001b[1;33m)\u001b[0m\u001b[1;33m:\u001b[0m\u001b[1;33m\u001b[0m\u001b[1;33m\u001b[0m\u001b[0m\n\u001b[0;32m    953\u001b[0m       return self._functional_construction_call(inputs, args, kwargs,\n\u001b[1;32m--> 954\u001b[1;33m                                                 input_list)\n\u001b[0m\u001b[0;32m    955\u001b[0m \u001b[1;33m\u001b[0m\u001b[0m\n\u001b[0;32m    956\u001b[0m     \u001b[1;31m# Maintains info about the `Layer.call` stack.\u001b[0m\u001b[1;33m\u001b[0m\u001b[1;33m\u001b[0m\u001b[1;33m\u001b[0m\u001b[0m\n",
      "\u001b[1;32m~\\.conda\\envs\\venv\\lib\\site-packages\\tensorflow\\python\\keras\\engine\\base_layer.py\u001b[0m in \u001b[0;36m_functional_construction_call\u001b[1;34m(self, inputs, args, kwargs, input_list)\u001b[0m\n\u001b[0;32m   1091\u001b[0m         \u001b[1;31m# Check input assumptions set after layer building, e.g. input shape.\u001b[0m\u001b[1;33m\u001b[0m\u001b[1;33m\u001b[0m\u001b[1;33m\u001b[0m\u001b[0m\n\u001b[0;32m   1092\u001b[0m         outputs = self._keras_tensor_symbolic_call(\n\u001b[1;32m-> 1093\u001b[1;33m             inputs, input_masks, args, kwargs)\n\u001b[0m\u001b[0;32m   1094\u001b[0m \u001b[1;33m\u001b[0m\u001b[0m\n\u001b[0;32m   1095\u001b[0m         \u001b[1;32mif\u001b[0m \u001b[0moutputs\u001b[0m \u001b[1;32mis\u001b[0m \u001b[1;32mNone\u001b[0m\u001b[1;33m:\u001b[0m\u001b[1;33m\u001b[0m\u001b[1;33m\u001b[0m\u001b[0m\n",
      "\u001b[1;32m~\\.conda\\envs\\venv\\lib\\site-packages\\tensorflow\\python\\keras\\engine\\base_layer.py\u001b[0m in \u001b[0;36m_keras_tensor_symbolic_call\u001b[1;34m(self, inputs, input_masks, args, kwargs)\u001b[0m\n\u001b[0;32m    822\u001b[0m       \u001b[1;32mreturn\u001b[0m \u001b[0mnest\u001b[0m\u001b[1;33m.\u001b[0m\u001b[0mmap_structure\u001b[0m\u001b[1;33m(\u001b[0m\u001b[0mkeras_tensor\u001b[0m\u001b[1;33m.\u001b[0m\u001b[0mKerasTensor\u001b[0m\u001b[1;33m,\u001b[0m \u001b[0moutput_signature\u001b[0m\u001b[1;33m)\u001b[0m\u001b[1;33m\u001b[0m\u001b[1;33m\u001b[0m\u001b[0m\n\u001b[0;32m    823\u001b[0m     \u001b[1;32melse\u001b[0m\u001b[1;33m:\u001b[0m\u001b[1;33m\u001b[0m\u001b[1;33m\u001b[0m\u001b[0m\n\u001b[1;32m--> 824\u001b[1;33m       \u001b[1;32mreturn\u001b[0m \u001b[0mself\u001b[0m\u001b[1;33m.\u001b[0m\u001b[0m_infer_output_signature\u001b[0m\u001b[1;33m(\u001b[0m\u001b[0minputs\u001b[0m\u001b[1;33m,\u001b[0m \u001b[0margs\u001b[0m\u001b[1;33m,\u001b[0m \u001b[0mkwargs\u001b[0m\u001b[1;33m,\u001b[0m \u001b[0minput_masks\u001b[0m\u001b[1;33m)\u001b[0m\u001b[1;33m\u001b[0m\u001b[1;33m\u001b[0m\u001b[0m\n\u001b[0m\u001b[0;32m    825\u001b[0m \u001b[1;33m\u001b[0m\u001b[0m\n\u001b[0;32m    826\u001b[0m   \u001b[1;32mdef\u001b[0m \u001b[0m_infer_output_signature\u001b[0m\u001b[1;33m(\u001b[0m\u001b[0mself\u001b[0m\u001b[1;33m,\u001b[0m \u001b[0minputs\u001b[0m\u001b[1;33m,\u001b[0m \u001b[0margs\u001b[0m\u001b[1;33m,\u001b[0m \u001b[0mkwargs\u001b[0m\u001b[1;33m,\u001b[0m \u001b[0minput_masks\u001b[0m\u001b[1;33m)\u001b[0m\u001b[1;33m:\u001b[0m\u001b[1;33m\u001b[0m\u001b[1;33m\u001b[0m\u001b[0m\n",
      "\u001b[1;32m~\\.conda\\envs\\venv\\lib\\site-packages\\tensorflow\\python\\keras\\engine\\base_layer.py\u001b[0m in \u001b[0;36m_infer_output_signature\u001b[1;34m(self, inputs, args, kwargs, input_masks)\u001b[0m\n\u001b[0;32m    863\u001b[0m           \u001b[1;31m# TODO(kaftan): do we maybe_build here, or have we already done it?\u001b[0m\u001b[1;33m\u001b[0m\u001b[1;33m\u001b[0m\u001b[1;33m\u001b[0m\u001b[0m\n\u001b[0;32m    864\u001b[0m           \u001b[0mself\u001b[0m\u001b[1;33m.\u001b[0m\u001b[0m_maybe_build\u001b[0m\u001b[1;33m(\u001b[0m\u001b[0minputs\u001b[0m\u001b[1;33m)\u001b[0m\u001b[1;33m\u001b[0m\u001b[1;33m\u001b[0m\u001b[0m\n\u001b[1;32m--> 865\u001b[1;33m           \u001b[0moutputs\u001b[0m \u001b[1;33m=\u001b[0m \u001b[0mcall_fn\u001b[0m\u001b[1;33m(\u001b[0m\u001b[0minputs\u001b[0m\u001b[1;33m,\u001b[0m \u001b[1;33m*\u001b[0m\u001b[0margs\u001b[0m\u001b[1;33m,\u001b[0m \u001b[1;33m**\u001b[0m\u001b[0mkwargs\u001b[0m\u001b[1;33m)\u001b[0m\u001b[1;33m\u001b[0m\u001b[1;33m\u001b[0m\u001b[0m\n\u001b[0m\u001b[0;32m    866\u001b[0m \u001b[1;33m\u001b[0m\u001b[0m\n\u001b[0;32m    867\u001b[0m         \u001b[0mself\u001b[0m\u001b[1;33m.\u001b[0m\u001b[0m_handle_activity_regularization\u001b[0m\u001b[1;33m(\u001b[0m\u001b[0minputs\u001b[0m\u001b[1;33m,\u001b[0m \u001b[0moutputs\u001b[0m\u001b[1;33m)\u001b[0m\u001b[1;33m\u001b[0m\u001b[1;33m\u001b[0m\u001b[0m\n",
      "\u001b[1;32m~\\.conda\\envs\\venv\\lib\\site-packages\\tensorflow\\python\\autograph\\impl\\api.py\u001b[0m in \u001b[0;36mwrapper\u001b[1;34m(*args, **kwargs)\u001b[0m\n\u001b[0;32m    668\u001b[0m       \u001b[1;32mexcept\u001b[0m \u001b[0mException\u001b[0m \u001b[1;32mas\u001b[0m \u001b[0me\u001b[0m\u001b[1;33m:\u001b[0m  \u001b[1;31m# pylint:disable=broad-except\u001b[0m\u001b[1;33m\u001b[0m\u001b[1;33m\u001b[0m\u001b[0m\n\u001b[0;32m    669\u001b[0m         \u001b[1;32mif\u001b[0m \u001b[0mhasattr\u001b[0m\u001b[1;33m(\u001b[0m\u001b[0me\u001b[0m\u001b[1;33m,\u001b[0m \u001b[1;34m'ag_error_metadata'\u001b[0m\u001b[1;33m)\u001b[0m\u001b[1;33m:\u001b[0m\u001b[1;33m\u001b[0m\u001b[1;33m\u001b[0m\u001b[0m\n\u001b[1;32m--> 670\u001b[1;33m           \u001b[1;32mraise\u001b[0m \u001b[0me\u001b[0m\u001b[1;33m.\u001b[0m\u001b[0mag_error_metadata\u001b[0m\u001b[1;33m.\u001b[0m\u001b[0mto_exception\u001b[0m\u001b[1;33m(\u001b[0m\u001b[0me\u001b[0m\u001b[1;33m)\u001b[0m\u001b[1;33m\u001b[0m\u001b[1;33m\u001b[0m\u001b[0m\n\u001b[0m\u001b[0;32m    671\u001b[0m         \u001b[1;32melse\u001b[0m\u001b[1;33m:\u001b[0m\u001b[1;33m\u001b[0m\u001b[1;33m\u001b[0m\u001b[0m\n\u001b[0;32m    672\u001b[0m           \u001b[1;32mraise\u001b[0m\u001b[1;33m\u001b[0m\u001b[1;33m\u001b[0m\u001b[0m\n",
      "\u001b[1;31mResourceExhaustedError\u001b[0m: in user code:\n\n    <ipython-input-5-89f007774850>:18 call  *\n        attention_output = self.att(inputs)\n    <ipython-input-4-8d4be259f347>:70 call  *\n        value = self.value_dense(inputs)  # (batch_size, seq_len, embed_dim)\n    C:\\Users\\go\\.conda\\envs\\venv\\lib\\site-packages\\tensorflow\\python\\keras\\engine\\base_layer.py:1010 __call__  **\n        self._maybe_build(inputs)\n    C:\\Users\\go\\.conda\\envs\\venv\\lib\\site-packages\\tensorflow\\python\\keras\\engine\\base_layer.py:2704 _maybe_build\n        self.build(input_shapes)  # pylint:disable=not-callable\n    C:\\Users\\go\\.conda\\envs\\venv\\lib\\site-packages\\tensorflow\\python\\keras\\layers\\core.py:1191 build\n        trainable=True)\n    C:\\Users\\go\\.conda\\envs\\venv\\lib\\site-packages\\tensorflow\\python\\keras\\engine\\base_layer.py:642 add_weight\n        caching_device=caching_device)\n    C:\\Users\\go\\.conda\\envs\\venv\\lib\\site-packages\\tensorflow\\python\\training\\tracking\\base.py:810 _add_variable_with_custom_getter\n        **kwargs_for_getter)\n    C:\\Users\\go\\.conda\\envs\\venv\\lib\\site-packages\\tensorflow\\python\\keras\\engine\\base_layer_utils.py:142 make_variable\n        shape=variable_shape if variable_shape else None)\n    C:\\Users\\go\\.conda\\envs\\venv\\lib\\site-packages\\tensorflow\\python\\ops\\variables.py:260 __call__\n        return cls._variable_v1_call(*args, **kwargs)\n    C:\\Users\\go\\.conda\\envs\\venv\\lib\\site-packages\\tensorflow\\python\\ops\\variables.py:221 _variable_v1_call\n        shape=shape)\n    C:\\Users\\go\\.conda\\envs\\venv\\lib\\site-packages\\tensorflow\\python\\ops\\variables.py:199 <lambda>\n        previous_getter = lambda **kwargs: default_variable_creator(None, **kwargs)\n    C:\\Users\\go\\.conda\\envs\\venv\\lib\\site-packages\\tensorflow\\python\\ops\\variable_scope.py:2618 default_variable_creator\n        shape=shape)\n    C:\\Users\\go\\.conda\\envs\\venv\\lib\\site-packages\\tensorflow\\python\\ops\\variables.py:264 __call__\n        return super(VariableMetaclass, cls).__call__(*args, **kwargs)\n    C:\\Users\\go\\.conda\\envs\\venv\\lib\\site-packages\\tensorflow\\python\\ops\\resource_variable_ops.py:1585 __init__\n        distribute_strategy=distribute_strategy)\n    C:\\Users\\go\\.conda\\envs\\venv\\lib\\site-packages\\tensorflow\\python\\ops\\resource_variable_ops.py:1712 _init_from_args\n        initial_value = initial_value()\n    C:\\Users\\go\\.conda\\envs\\venv\\lib\\site-packages\\tensorflow\\python\\keras\\initializers\\initializers_v2.py:410 __call__\n        shape, dtype=_get_dtype(dtype), **kwargs)\n    C:\\Users\\go\\.conda\\envs\\venv\\lib\\site-packages\\tensorflow\\python\\ops\\init_ops_v2.py:600 __call__\n        return self._random_generator.random_uniform(shape, -limit, limit, dtype)\n    C:\\Users\\go\\.conda\\envs\\venv\\lib\\site-packages\\tensorflow\\python\\ops\\init_ops_v2.py:1082 random_uniform\n        shape=shape, minval=minval, maxval=maxval, dtype=dtype, seed=self.seed)\n    C:\\Users\\go\\.conda\\envs\\venv\\lib\\site-packages\\tensorflow\\python\\util\\dispatch.py:206 wrapper\n        return target(*args, **kwargs)\n    C:\\Users\\go\\.conda\\envs\\venv\\lib\\site-packages\\tensorflow\\python\\ops\\random_ops.py:308 random_uniform\n        result = math_ops.add(result * (maxval - minval), minval, name=name)\n    C:\\Users\\go\\.conda\\envs\\venv\\lib\\site-packages\\tensorflow\\python\\ops\\gen_math_ops.py:326 add\n        _ops.raise_from_not_ok_status(e, name)\n    C:\\Users\\go\\.conda\\envs\\venv\\lib\\site-packages\\tensorflow\\python\\framework\\ops.py:6868 raise_from_not_ok_status\n        six.raise_from(core._status_to_exception(e.code, message), None)\n    <string>:3 raise_from\n        \n\n    ResourceExhaustedError: OOM when allocating tensor with shape[12288,12288] and type float on /job:localhost/replica:0/task:0/device:CPU:0 by allocator cpu [Op:Add]\n"
     ]
    }
   ],
   "source": [
    "vocab_size = 1000  # Only consider the top 20k words, 50,257\n",
    "maxlen = 100  # Max sequence size, 1024\n",
    "embed_dim = 256  # Embedding size for each token, 768\n",
    "num_heads = 2  # Number of attention heads, 12\n",
    "feed_forward_dim = 256  # Hidden layer size in feed forward network inside transformer, 1024 or 2048\n",
    "num_layers = 1\n",
    "\n",
    "# gpt3\n",
    "# vocab_size = 50257  # Only consider the top 20k words, 50,257\n",
    "# maxlen = 2048  # Max sequence size, 1024\n",
    "# embed_dim = 12288  # Embedding size for each token, 768\n",
    "# num_heads = 96  # Number of attention heads, 12\n",
    "# feed_forward_dim = 12288  # Hidden layer size in feed forward network inside transformer, 1024 or 2048\n",
    "# num_layers = 96\n",
    "\n",
    "def create_model():\n",
    "    inputs = layers.Input(shape=(maxlen,), dtype=tf.int32)\n",
    "    embedding_layer = TokenAndPositionEmbedding(maxlen, vocab_size, embed_dim) # (batch_size, input_seq_len) -> (batch_size, input_seq_len, embed_dim)\n",
    "    x = embedding_layer(inputs)\n",
    "    transformer_block = TransformerBlock(embed_dim, num_heads, feed_forward_dim)  # (batch_size, input_seq_len, d_model) => (batch_size, input_seq_len, d_model)\n",
    "    transformer_block_list = [TransformerBlock(embed_dim, num_heads, feed_forward_dim) for _ in range(num_layers)]  # 추가,for multi-layers\n",
    "\n",
    "#     x = transformer_block(x)\n",
    "    ## 추가, multi-layers\n",
    "    for i in range(num_layers):\n",
    "        x = transformer_block_list[i](x)\n",
    "    \n",
    "    outputs = layers.Dense(vocab_size)(x)\n",
    "    model = keras.Model(inputs=inputs, outputs=[outputs, x])\n",
    "    # 훈련 데이터의 label(target)이 one-hot vector 이면 CategoricalCrossentropy\n",
    "    # 훈련 데이터의 label(target)이 정수이면 SparseCategoricalCrossentropy\n",
    "    loss_fn = tf.keras.losses.SparseCategoricalCrossentropy(from_logits=True)\n",
    "    model.compile(\n",
    "        \"adam\", loss=[loss_fn, None],\n",
    "    )  # No loss and optimization based on word embeddings from transformer block\n",
    "    return model\n",
    "\n",
    "model = create_model()\n",
    "model.summary()"
   ]
  },
  {
   "cell_type": "markdown",
   "metadata": {
    "id": "kJCoQrWyDa45"
   },
   "source": [
    "## Prepare data for word level language modelling\n",
    "\n",
    "We will download IMDB data, and combine training and validation sets for\n",
    "text generation task.\n"
   ]
  },
  {
   "cell_type": "raw",
   "metadata": {
    "colab": {
     "base_uri": "https://localhost:8080/"
    },
    "id": "rda1nw9LDa45",
    "outputId": "5e18cf34-4e6c-48a3-c5c5-f3b0dff82a19"
   },
   "source": [
    "!curl -O https://ai.stanford.edu/~amaas/data/sentiment/aclImdb_v1.tar.gz\n",
    "!tar -xf aclImdb_v1.tar.gz"
   ]
  },
  {
   "cell_type": "code",
   "execution_count": 12,
   "metadata": {
    "colab": {
     "base_uri": "https://localhost:8080/"
    },
    "id": "M58HWG9mDa45",
    "outputId": "25a119ad-5efe-4387-a4f1-f2297b5f7e4b"
   },
   "outputs": [
    {
     "name": "stdout",
     "output_type": "stream",
     "text": [
      "400 files\n"
     ]
    }
   ],
   "source": [
    "batch_size = 10\n",
    "\n",
    "# The dataset contains each review in a separate text file\n",
    "# The text files are present in four different folders\n",
    "# Create a list all files\n",
    "filenames = []\n",
    "directories = [\n",
    "    \"aclImdb/train/pos\",\n",
    "    \"aclImdb/train/neg\",\n",
    "    \"aclImdb/test/pos\",\n",
    "    \"aclImdb/test/neg\",\n",
    "]\n",
    "for dir in directories:\n",
    "    for f in os.listdir(dir)[:100]:\n",
    "        filenames.append(os.path.join(dir, f))\n",
    "\n",
    "print(f\"{len(filenames)} files\")\n",
    "\n",
    "# Create dataset from text files\n",
    "random.shuffle(filenames)\n",
    "text_ds = tf.data.TextLineDataset(filenames)\n",
    "text_ds = text_ds.shuffle(buffer_size=256)\n",
    "text_ds = text_ds.batch(batch_size)\n",
    "\n",
    "\n",
    "def custom_standardization(input_string):\n",
    "    \"\"\" Remove html line-break tags and handle punctuation \"\"\"\n",
    "    lowercased = tf.strings.lower(input_string)\n",
    "    stripped_html = tf.strings.regex_replace(lowercased, \"<br />\", \" \")\n",
    "    return tf.strings.regex_replace(stripped_html, f\"([{string.punctuation}])\", r\" \\1\")\n",
    "\n",
    "\n",
    "# Create vectcorization layer and adapt it to the text\n",
    "vectorize_layer = TextVectorization(\n",
    "    standardize=custom_standardization,\n",
    "    max_tokens=vocab_size - 1,\n",
    "    output_mode=\"int\",\n",
    "    output_sequence_length=maxlen + 1,\n",
    ")\n",
    "vectorize_layer.adapt(text_ds)\n",
    "vocab = vectorize_layer.get_vocabulary()  # To get words back from token indices\n",
    "\n",
    "\n",
    "def prepare_lm_inputs_labels(text):\n",
    "    \"\"\"\n",
    "    Shift word sequences by 1 position so that the target for position (i) is\n",
    "    word at position (i+1). The model will use all words up till position (i)\n",
    "    to predict the next word.\n",
    "    \"\"\"\n",
    "    text = tf.expand_dims(text, -1)\n",
    "    tokenized_sentences = vectorize_layer(text)\n",
    "    x = tokenized_sentences[:, :-1]\n",
    "    y = tokenized_sentences[:, 1:]\n",
    "    return x, y\n",
    "\n",
    "\n",
    "text_ds = text_ds.map(prepare_lm_inputs_labels)\n",
    "text_ds = text_ds.prefetch(tf.data.experimental.AUTOTUNE)\n",
    "\n"
   ]
  },
  {
   "cell_type": "markdown",
   "metadata": {
    "id": "lKwrAAebDa45"
   },
   "source": [
    "## Callback for generating text\n"
   ]
  },
  {
   "cell_type": "code",
   "execution_count": 29,
   "metadata": {
    "id": "AnRBGD35Da45"
   },
   "outputs": [
    {
     "name": "stdout",
     "output_type": "stream",
     "text": [
      "this movie is -> [13, 16, 9]\n"
     ]
    }
   ],
   "source": [
    "\n",
    "class TextGenerator(keras.callbacks.Callback):\n",
    "    \"\"\"Callback to generate text from trained model.\n",
    "    1. Feed some starting prompt to the model\n",
    "    2. Predict probabilities for next token\n",
    "    3. Sample next token and add it to the next input\n",
    "\n",
    "    # Arguments\n",
    "        max_tokens: Integer, the number of tokens to be generated after prompt.\n",
    "        start_tokens: List of integers, the token indices for the starting prompt.\n",
    "        index_to_word: List of strings, obtained from TextVectorization layer.\n",
    "        top_k: Integer, sample from the `top_k` token predictions.\n",
    "        print_every: Integer, print after this many epochs.\n",
    "    \"\"\"\n",
    "\n",
    "    def __init__(\n",
    "        self, max_tokens, start_tokens, index_to_word, top_k=10, print_every=1\n",
    "    ):\n",
    "        self.max_tokens = max_tokens\n",
    "        self.start_tokens = start_tokens\n",
    "        self.index_to_word = index_to_word\n",
    "        self.print_every = print_every\n",
    "        self.k = top_k\n",
    "\n",
    "    def sample_from(self, logits):\n",
    "        logits, indices = tf.math.top_k(logits, k=self.k, sorted=True)\n",
    "        indices = np.asarray(indices).astype(\"int32\")\n",
    "        preds = keras.activations.softmax(tf.expand_dims(logits, 0))[0]\n",
    "        preds = np.asarray(preds).astype(\"float32\")\n",
    "        return np.random.choice(indices, p=preds)\n",
    "\n",
    "    def detokenize(self, number):\n",
    "        return self.index_to_word[number]\n",
    "\n",
    "    def on_epoch_end(self, epoch, logs=None):\n",
    "        start_tokens = [_ for _ in self.start_tokens]\n",
    "        if (epoch + 1) % self.print_every != 0:\n",
    "            return\n",
    "        num_tokens_generated = 0\n",
    "        tokens_generated = []\n",
    "        while num_tokens_generated <= self.max_tokens:\n",
    "            pad_len = maxlen - len(start_tokens)\n",
    "            sample_index = len(start_tokens) - 1\n",
    "            if pad_len < 0:\n",
    "                x = start_tokens[:maxlen]\n",
    "                sample_index = maxlen - 1\n",
    "            elif pad_len > 0:\n",
    "                x = start_tokens + [0] * pad_len\n",
    "            else:\n",
    "                x = start_tokens\n",
    "            x = np.array([x])\n",
    "            y, _ = self.model.predict(x)\n",
    "            sample_token = self.sample_from(y[0][sample_index])\n",
    "            tokens_generated.append(sample_token)\n",
    "            start_tokens.append(sample_token)\n",
    "            num_tokens_generated = len(tokens_generated)\n",
    "        txt = \" \".join(\n",
    "            [self.detokenize(_) for _ in self.start_tokens + tokens_generated]\n",
    "        )\n",
    "        print(f\"generated text:\\n{txt}\\n\")\n",
    "\n",
    "\n",
    "# Tokenize starting prompt\n",
    "word_to_index = {}\n",
    "for index, word in enumerate(vocab):\n",
    "    word_to_index[word] = index\n",
    "\n",
    "start_prompt = \"this movie is\"\n",
    "start_tokens = [word_to_index.get(_, 1) for _ in start_prompt.split()]\n",
    "print(start_prompt,'->', start_tokens)\n",
    "num_tokens_generated = 40\n",
    "text_gen_callback = TextGenerator(num_tokens_generated, start_tokens, vocab)\n",
    "\n"
   ]
  },
  {
   "cell_type": "markdown",
   "metadata": {
    "id": "LMvz7qysDa46"
   },
   "source": [
    "## Train\n",
    "\n",
    "Note: This code should preferably be run on GPU.\n"
   ]
  },
  {
   "cell_type": "code",
   "execution_count": null,
   "metadata": {
    "colab": {
     "base_uri": "https://localhost:8080/",
     "height": 1000
    },
    "id": "OR7hKPKMDa46",
    "outputId": "31e9c78f-cb97-47ad-e1dd-1ab94534ef8d"
   },
   "outputs": [],
   "source": [
    "model.fit(text_ds, verbose=2, epochs=30, callbacks=[text_gen_callback])"
   ]
  },
  {
   "cell_type": "code",
   "execution_count": null,
   "metadata": {
    "id": "KWkZmQWOSX1g"
   },
   "outputs": [],
   "source": [
    "model.load_weights(\"GPT_weight.h5\")"
   ]
  },
  {
   "cell_type": "code",
   "execution_count": null,
   "metadata": {
    "id": "96VjhzMZTDzK"
   },
   "outputs": [],
   "source": []
  },
  {
   "cell_type": "code",
   "execution_count": null,
   "metadata": {
    "id": "U6vRk1t_Epzp"
   },
   "outputs": [],
   "source": []
  }
 ],
 "metadata": {
  "accelerator": "GPU",
  "colab": {
   "collapsed_sections": [],
   "name": "text_generation_with_miniature_gpt",
   "provenance": []
  },
  "kernelspec": {
   "display_name": "Python 3",
   "language": "python",
   "name": "python3"
  },
  "language_info": {
   "codemirror_mode": {
    "name": "ipython",
    "version": 3
   },
   "file_extension": ".py",
   "mimetype": "text/x-python",
   "name": "python",
   "nbconvert_exporter": "python",
   "pygments_lexer": "ipython3",
   "version": "3.6.10"
  },
  "varInspector": {
   "cols": {
    "lenName": 16,
    "lenType": 16,
    "lenVar": 40
   },
   "kernels_config": {
    "python": {
     "delete_cmd_postfix": "",
     "delete_cmd_prefix": "del ",
     "library": "var_list.py",
     "varRefreshCmd": "print(var_dic_list())"
    },
    "r": {
     "delete_cmd_postfix": ") ",
     "delete_cmd_prefix": "rm(",
     "library": "var_list.r",
     "varRefreshCmd": "cat(var_dic_list()) "
    }
   },
   "types_to_exclude": [
    "module",
    "function",
    "builtin_function_or_method",
    "instance",
    "_Feature"
   ],
   "window_display": false
  }
 },
 "nbformat": 4,
 "nbformat_minor": 1
}
